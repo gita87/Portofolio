{
 "cells": [
  {
   "cell_type": "code",
   "execution_count": 1,
   "id": "93579f3e",
   "metadata": {},
   "outputs": [],
   "source": [
    "from sklearn.datasets import load_boston\n",
    "from sklearn.linear_model import LinearRegression\n",
    "from sklearn.metrics import mean_squared_error\n",
    "\n",
    "import pandas as pd\n",
    "import numpy as np"
   ]
  },
  {
   "cell_type": "code",
   "execution_count": 3,
   "id": "3ee1a1ce",
   "metadata": {},
   "outputs": [
    {
     "data": {
      "text/html": [
       "<div>\n",
       "<style scoped>\n",
       "    .dataframe tbody tr th:only-of-type {\n",
       "        vertical-align: middle;\n",
       "    }\n",
       "\n",
       "    .dataframe tbody tr th {\n",
       "        vertical-align: top;\n",
       "    }\n",
       "\n",
       "    .dataframe thead th {\n",
       "        text-align: right;\n",
       "    }\n",
       "</style>\n",
       "<table border=\"1\" class=\"dataframe\">\n",
       "  <thead>\n",
       "    <tr style=\"text-align: right;\">\n",
       "      <th></th>\n",
       "      <th>CRIM</th>\n",
       "      <th>ZN</th>\n",
       "      <th>INDUS</th>\n",
       "      <th>CHAS</th>\n",
       "      <th>NOX</th>\n",
       "      <th>RM</th>\n",
       "      <th>AGE</th>\n",
       "      <th>DIS</th>\n",
       "      <th>RAD</th>\n",
       "      <th>TAX</th>\n",
       "      <th>PTRATIO</th>\n",
       "      <th>B</th>\n",
       "      <th>LSTAT</th>\n",
       "    </tr>\n",
       "  </thead>\n",
       "  <tbody>\n",
       "    <tr>\n",
       "      <th>0</th>\n",
       "      <td>0.00632</td>\n",
       "      <td>18.0</td>\n",
       "      <td>2.31</td>\n",
       "      <td>0.0</td>\n",
       "      <td>0.538</td>\n",
       "      <td>6.575</td>\n",
       "      <td>65.2</td>\n",
       "      <td>4.0900</td>\n",
       "      <td>1.0</td>\n",
       "      <td>296.0</td>\n",
       "      <td>15.3</td>\n",
       "      <td>396.90</td>\n",
       "      <td>4.98</td>\n",
       "    </tr>\n",
       "    <tr>\n",
       "      <th>1</th>\n",
       "      <td>0.02731</td>\n",
       "      <td>0.0</td>\n",
       "      <td>7.07</td>\n",
       "      <td>0.0</td>\n",
       "      <td>0.469</td>\n",
       "      <td>6.421</td>\n",
       "      <td>78.9</td>\n",
       "      <td>4.9671</td>\n",
       "      <td>2.0</td>\n",
       "      <td>242.0</td>\n",
       "      <td>17.8</td>\n",
       "      <td>396.90</td>\n",
       "      <td>9.14</td>\n",
       "    </tr>\n",
       "    <tr>\n",
       "      <th>2</th>\n",
       "      <td>0.02729</td>\n",
       "      <td>0.0</td>\n",
       "      <td>7.07</td>\n",
       "      <td>0.0</td>\n",
       "      <td>0.469</td>\n",
       "      <td>7.185</td>\n",
       "      <td>61.1</td>\n",
       "      <td>4.9671</td>\n",
       "      <td>2.0</td>\n",
       "      <td>242.0</td>\n",
       "      <td>17.8</td>\n",
       "      <td>392.83</td>\n",
       "      <td>4.03</td>\n",
       "    </tr>\n",
       "    <tr>\n",
       "      <th>3</th>\n",
       "      <td>0.03237</td>\n",
       "      <td>0.0</td>\n",
       "      <td>2.18</td>\n",
       "      <td>0.0</td>\n",
       "      <td>0.458</td>\n",
       "      <td>6.998</td>\n",
       "      <td>45.8</td>\n",
       "      <td>6.0622</td>\n",
       "      <td>3.0</td>\n",
       "      <td>222.0</td>\n",
       "      <td>18.7</td>\n",
       "      <td>394.63</td>\n",
       "      <td>2.94</td>\n",
       "    </tr>\n",
       "    <tr>\n",
       "      <th>4</th>\n",
       "      <td>0.06905</td>\n",
       "      <td>0.0</td>\n",
       "      <td>2.18</td>\n",
       "      <td>0.0</td>\n",
       "      <td>0.458</td>\n",
       "      <td>7.147</td>\n",
       "      <td>54.2</td>\n",
       "      <td>6.0622</td>\n",
       "      <td>3.0</td>\n",
       "      <td>222.0</td>\n",
       "      <td>18.7</td>\n",
       "      <td>396.90</td>\n",
       "      <td>5.33</td>\n",
       "    </tr>\n",
       "  </tbody>\n",
       "</table>\n",
       "</div>"
      ],
      "text/plain": [
       "      CRIM    ZN  INDUS  CHAS    NOX     RM   AGE     DIS  RAD    TAX  \\\n",
       "0  0.00632  18.0   2.31   0.0  0.538  6.575  65.2  4.0900  1.0  296.0   \n",
       "1  0.02731   0.0   7.07   0.0  0.469  6.421  78.9  4.9671  2.0  242.0   \n",
       "2  0.02729   0.0   7.07   0.0  0.469  7.185  61.1  4.9671  2.0  242.0   \n",
       "3  0.03237   0.0   2.18   0.0  0.458  6.998  45.8  6.0622  3.0  222.0   \n",
       "4  0.06905   0.0   2.18   0.0  0.458  7.147  54.2  6.0622  3.0  222.0   \n",
       "\n",
       "   PTRATIO       B  LSTAT  \n",
       "0     15.3  396.90   4.98  \n",
       "1     17.8  396.90   9.14  \n",
       "2     17.8  392.83   4.03  \n",
       "3     18.7  394.63   2.94  \n",
       "4     18.7  396.90   5.33  "
      ]
     },
     "execution_count": 3,
     "metadata": {},
     "output_type": "execute_result"
    }
   ],
   "source": [
    "# Getting Data\n",
    "\n",
    "boston_dataset = load_boston()\n",
    "# load_boston() is a dataset from >>> from sklearn.datasets import load_boston\n",
    "\n",
    "data = pd.DataFrame(data = boston_dataset.data,\n",
    "                   columns = boston_dataset.feature_names)\n",
    "\n",
    "data.head()"
   ]
  },
  {
   "cell_type": "code",
   "execution_count": 4,
   "id": "9b3a9a2b",
   "metadata": {},
   "outputs": [
    {
     "data": {
      "text/html": [
       "<div>\n",
       "<style scoped>\n",
       "    .dataframe tbody tr th:only-of-type {\n",
       "        vertical-align: middle;\n",
       "    }\n",
       "\n",
       "    .dataframe tbody tr th {\n",
       "        vertical-align: top;\n",
       "    }\n",
       "\n",
       "    .dataframe thead th {\n",
       "        text-align: right;\n",
       "    }\n",
       "</style>\n",
       "<table border=\"1\" class=\"dataframe\">\n",
       "  <thead>\n",
       "    <tr style=\"text-align: right;\">\n",
       "      <th></th>\n",
       "      <th>CRIM</th>\n",
       "      <th>ZN</th>\n",
       "      <th>CHAS</th>\n",
       "      <th>NOX</th>\n",
       "      <th>RM</th>\n",
       "      <th>DIS</th>\n",
       "      <th>RAD</th>\n",
       "      <th>TAX</th>\n",
       "      <th>PTRATIO</th>\n",
       "      <th>B</th>\n",
       "      <th>LSTAT</th>\n",
       "    </tr>\n",
       "  </thead>\n",
       "  <tbody>\n",
       "    <tr>\n",
       "      <th>0</th>\n",
       "      <td>0.00632</td>\n",
       "      <td>18.0</td>\n",
       "      <td>0.0</td>\n",
       "      <td>0.538</td>\n",
       "      <td>6.575</td>\n",
       "      <td>4.0900</td>\n",
       "      <td>1.0</td>\n",
       "      <td>296.0</td>\n",
       "      <td>15.3</td>\n",
       "      <td>396.9</td>\n",
       "      <td>4.98</td>\n",
       "    </tr>\n",
       "    <tr>\n",
       "      <th>1</th>\n",
       "      <td>0.02731</td>\n",
       "      <td>0.0</td>\n",
       "      <td>0.0</td>\n",
       "      <td>0.469</td>\n",
       "      <td>6.421</td>\n",
       "      <td>4.9671</td>\n",
       "      <td>2.0</td>\n",
       "      <td>242.0</td>\n",
       "      <td>17.8</td>\n",
       "      <td>396.9</td>\n",
       "      <td>9.14</td>\n",
       "    </tr>\n",
       "  </tbody>\n",
       "</table>\n",
       "</div>"
      ],
      "text/plain": [
       "      CRIM    ZN  CHAS    NOX     RM     DIS  RAD    TAX  PTRATIO      B  \\\n",
       "0  0.00632  18.0   0.0  0.538  6.575  4.0900  1.0  296.0     15.3  396.9   \n",
       "1  0.02731   0.0   0.0  0.469  6.421  4.9671  2.0  242.0     17.8  396.9   \n",
       "\n",
       "   LSTAT  \n",
       "0   4.98  \n",
       "1   9.14  "
      ]
     },
     "execution_count": 4,
     "metadata": {},
     "output_type": "execute_result"
    }
   ],
   "source": [
    "# Dropping some columns to collect important features\n",
    "\n",
    "features = data.drop(['INDUS', 'AGE'], axis=1)\n",
    "features.head(2)"
   ]
  },
  {
   "cell_type": "code",
   "execution_count": 9,
   "id": "5170fe89",
   "metadata": {},
   "outputs": [
    {
     "name": "stdout",
     "output_type": "stream",
     "text": [
      "(506,)\n",
      "(506, 1)\n"
     ]
    }
   ],
   "source": [
    "# taking 'PRICE' dataset from boston data set and turn it into target in log form\n",
    "log_prices = np.log(boston_dataset.target)\n",
    "print(log_prices.shape)\n",
    "\n",
    "# turning 'log_prices' into 2 dimensional array\n",
    "target = pd.DataFrame(log_prices, columns=['PRICES'])\n",
    "print(target.shape)"
   ]
  },
  {
   "cell_type": "markdown",
   "id": "e2e946b6",
   "metadata": {},
   "source": [
    "then, let's take average number for each features to make a dummy datasets then feed them into variable call 'property_stats'"
   ]
  },
  {
   "cell_type": "code",
   "execution_count": 12,
   "id": "e2a19b32",
   "metadata": {},
   "outputs": [
    {
     "data": {
      "text/plain": [
       "CRIM         3.613524\n",
       "ZN          11.363636\n",
       "CHAS         0.069170\n",
       "NOX          0.554695\n",
       "RM           6.284634\n",
       "DIS          3.795043\n",
       "RAD          9.549407\n",
       "TAX        408.237154\n",
       "PTRATIO     18.455534\n",
       "B          356.674032\n",
       "LSTAT       12.653063\n",
       "dtype: float64"
      ]
     },
     "execution_count": 12,
     "metadata": {},
     "output_type": "execute_result"
    }
   ],
   "source": [
    "# Making Dummy Data\n",
    "features.mean()"
   ]
  },
  {
   "cell_type": "code",
   "execution_count": 16,
   "id": "53d1e2a3",
   "metadata": {},
   "outputs": [
    {
     "data": {
      "text/plain": [
       "pandas.core.series.Series"
      ]
     },
     "execution_count": 16,
     "metadata": {},
     "output_type": "execute_result"
    }
   ],
   "source": [
    "type(features.mean())"
   ]
  },
  {
   "cell_type": "markdown",
   "id": "e0a9a7ba",
   "metadata": {},
   "source": [
    "that variable above is in series type, now we have to turn it into array type."
   ]
  },
  {
   "cell_type": "code",
   "execution_count": 17,
   "id": "cb5bbf3a",
   "metadata": {},
   "outputs": [
    {
     "data": {
      "text/plain": [
       "numpy.ndarray"
      ]
     },
     "execution_count": 17,
     "metadata": {},
     "output_type": "execute_result"
    }
   ],
   "source": [
    "features.mean().values\n",
    "type(features.mean().values)"
   ]
  },
  {
   "cell_type": "markdown",
   "id": "d15974c5",
   "metadata": {},
   "source": [
    "then let's check the shape"
   ]
  },
  {
   "cell_type": "code",
   "execution_count": 19,
   "id": "c3b4bb19",
   "metadata": {},
   "outputs": [
    {
     "data": {
      "text/plain": [
       "(11,)"
      ]
     },
     "execution_count": 19,
     "metadata": {},
     "output_type": "execute_result"
    }
   ],
   "source": [
    "features.mean().values.shape"
   ]
  },
  {
   "cell_type": "markdown",
   "id": "256c3110",
   "metadata": {},
   "source": [
    "It's one dimensional array. Then, turn it into 2 dimensional array. 1 Row and 11 columns"
   ]
  },
  {
   "cell_type": "code",
   "execution_count": 20,
   "id": "f72642c0",
   "metadata": {},
   "outputs": [
    {
     "data": {
      "text/plain": [
       "array([[3.61352356e+00, 1.13636364e+01, 6.91699605e-02, 5.54695059e-01,\n",
       "        6.28463439e+00, 3.79504269e+00, 9.54940711e+00, 4.08237154e+02,\n",
       "        1.84555336e+01, 3.56674032e+02, 1.26530632e+01]])"
      ]
     },
     "execution_count": 20,
     "metadata": {},
     "output_type": "execute_result"
    }
   ],
   "source": [
    "features.mean().values.reshape(1,11)"
   ]
  },
  {
   "cell_type": "code",
   "execution_count": 21,
   "id": "f9a6f353",
   "metadata": {},
   "outputs": [
    {
     "data": {
      "text/plain": [
       "(1, 11)"
      ]
     },
     "execution_count": 21,
     "metadata": {},
     "output_type": "execute_result"
    }
   ],
   "source": [
    "(features.mean().values.reshape(1,11)).shape"
   ]
  },
  {
   "cell_type": "markdown",
   "id": "fe802ced",
   "metadata": {},
   "source": [
    "Nice! Then pass it to a variable call 'property_stats\""
   ]
  },
  {
   "cell_type": "code",
   "execution_count": 52,
   "id": "df496fe6",
   "metadata": {},
   "outputs": [
    {
     "data": {
      "text/plain": [
       "array([[3.61352356e+00, 1.13636364e+01, 6.91699605e-02, 5.54695059e-01,\n",
       "        6.28463439e+00, 3.79504269e+00, 9.54940711e+00, 4.08237154e+02,\n",
       "        1.84555336e+01, 3.56674032e+02, 1.26530632e+01]])"
      ]
     },
     "execution_count": 52,
     "metadata": {},
     "output_type": "execute_result"
    }
   ],
   "source": [
    "# Making some indexes to 'property_stats' as dummy data\n",
    "\n",
    "CRIME_IDX = 0\n",
    "ZN_IDX = 1\n",
    "CHAS_IDX = 2\n",
    "RM_IDX = 4\n",
    "PTRATIO_IDX = 8\n",
    "\n",
    "\n",
    "\n",
    "property_stats = features.mean().values.reshape(1,11)\n",
    "property_stats"
   ]
  },
  {
   "attachments": {
    "image.png": {
     "image/png": "[encoded data removed]"
    }
   },
   "cell_type": "markdown",
   "id": "a6b6b3ec",
   "metadata": {},
   "source": [
    "\n",
    "'CRIM_IDX = 0' means we make an index with name that match from 'features' column. 'CRIM_IDX = 0' will refer to 'CRIM' in column number 0 in 'features', 'ZN_IDX = 1' will refer to column number 1 in 'features' column and so on. We will use those indexes to make a function. See the data bellow. \n",
    "![image.png](attachment:image.png)"
   ]
  },
  {
   "cell_type": "markdown",
   "id": "0f1263ef",
   "metadata": {},
   "source": [
    "### Calculate the MSE and R-MSE"
   ]
  },
  {
   "cell_type": "code",
   "execution_count": 24,
   "id": "2cd51045",
   "metadata": {},
   "outputs": [],
   "source": [
    "# contain LinearRegression methode into a variable and fitted 'features' and 'target'\n",
    "\n",
    "regr = LinearRegression().fit(features, target)"
   ]
  },
  {
   "cell_type": "code",
   "execution_count": 33,
   "id": "744c5387",
   "metadata": {},
   "outputs": [
    {
     "data": {
      "text/plain": [
       "array([[3.39664677],\n",
       "       [3.19835664],\n",
       "       [3.41211691],\n",
       "       [3.36926572],\n",
       "       [3.31497108],\n",
       "       [3.25264829],\n",
       "       [3.108364  ],\n",
       "       [2.91044427],\n",
       "       [2.5413092 ],\n",
       "       [2.91620602],\n",
       "       [2.86872454],\n",
       "       [3.04985366],\n",
       "       [3.00689598],\n",
       "       [3.00900293],\n",
       "       [2.97077174],\n",
       "       [3.00286629],\n",
       "       [3.05806467],\n",
       "       [2.84683392],\n",
       "       [2.8669729 ],\n",
       "       [2.94614728],\n",
       "       [2.64187504],\n",
       "       [2.88297883],\n",
       "       [2.75886338],\n",
       "       [2.69127888],\n",
       "       [2.79037709],\n",
       "       [2.71360592],\n",
       "       [2.80193695],\n",
       "       [2.73229701],\n",
       "       [2.93654401],\n",
       "       [2.98183279],\n",
       "       [2.58162964],\n",
       "       [2.89515735],\n",
       "       [2.41421346],\n",
       "       [2.72436498],\n",
       "       [2.65432884],\n",
       "       [3.16700996],\n",
       "       [3.09994804],\n",
       "       [3.15567482],\n",
       "       [3.12937335],\n",
       "       [3.42933686],\n",
       "       [3.53510293],\n",
       "       [3.33812743],\n",
       "       [3.25490029],\n",
       "       [3.21647699],\n",
       "       [3.14153317],\n",
       "       [3.12224447],\n",
       "       [3.01880036],\n",
       "       [2.87532264],\n",
       "       [2.46670051],\n",
       "       [2.89210523],\n",
       "       [3.04507412],\n",
       "       [3.1736558 ],\n",
       "       [3.32937203],\n",
       "       [3.19279378],\n",
       "       [2.75406785],\n",
       "       [3.39521876],\n",
       "       [3.1872663 ],\n",
       "       [3.49167425],\n",
       "       [3.11229257],\n",
       "       [3.07376188],\n",
       "       [2.92809913],\n",
       "       [2.92538101],\n",
       "       [3.17770362],\n",
       "       [3.08644582],\n",
       "       [3.12520365],\n",
       "       [3.40497722],\n",
       "       [3.19996317],\n",
       "       [3.08427096],\n",
       "       [2.91527007],\n",
       "       [3.06472868],\n",
       "       [3.22436111],\n",
       "       [3.08909623],\n",
       "       [3.22969739],\n",
       "       [3.18149733],\n",
       "       [3.23081345],\n",
       "       [3.15223302],\n",
       "       [3.08420105],\n",
       "       [3.12388216],\n",
       "       [3.02534315],\n",
       "       [3.11571048],\n",
       "       [3.33210812],\n",
       "       [3.26654981],\n",
       "       [3.25271548],\n",
       "       [3.21530512],\n",
       "       [3.19008327],\n",
       "       [3.31602106],\n",
       "       [3.08131703],\n",
       "       [3.25194761],\n",
       "       [3.40515769],\n",
       "       [3.40602789],\n",
       "       [3.27216652],\n",
       "       [3.28918018],\n",
       "       [3.32499669],\n",
       "       [3.36051066],\n",
       "       [3.2413919 ],\n",
       "       [3.33801184],\n",
       "       [3.17601159],\n",
       "       [3.55481233],\n",
       "       [3.54955244],\n",
       "       [3.43950626],\n",
       "       [3.13744702],\n",
       "       [3.18904433],\n",
       "       [2.9423713 ],\n",
       "       [2.97145587],\n",
       "       [3.02112081],\n",
       "       [2.89092231],\n",
       "       [2.82180764],\n",
       "       [2.98061386],\n",
       "       [3.05123021],\n",
       "       [2.92633892],\n",
       "       [2.98670333],\n",
       "       [3.20441493],\n",
       "       [2.97490399],\n",
       "       [2.95568604],\n",
       "       [3.17283281],\n",
       "       [2.9623154 ],\n",
       "       [3.09778495],\n",
       "       [3.13290611],\n",
       "       [2.96547739],\n",
       "       [3.01014393],\n",
       "       [3.03589748],\n",
       "       [3.04926043],\n",
       "       [2.94633795],\n",
       "       [2.72642525],\n",
       "       [2.95355729],\n",
       "       [3.04478484],\n",
       "       [2.65416055],\n",
       "       [2.74106609],\n",
       "       [2.85951131],\n",
       "       [2.68874474],\n",
       "       [2.92502365],\n",
       "       [2.90686203],\n",
       "       [2.94234855],\n",
       "       [2.77716376],\n",
       "       [2.65381632],\n",
       "       [2.787162  ],\n",
       "       [2.75632863],\n",
       "       [2.88110981],\n",
       "       [2.6440592 ],\n",
       "       [2.7514836 ],\n",
       "       [2.59244072],\n",
       "       [2.19327959],\n",
       "       [2.63638839],\n",
       "       [2.53590041],\n",
       "       [2.41958114],\n",
       "       [2.48135821],\n",
       "       [2.75054447],\n",
       "       [2.4109609 ],\n",
       "       [2.45164783],\n",
       "       [2.67934502],\n",
       "       [2.95217784],\n",
       "       [2.90067204],\n",
       "       [3.00700413],\n",
       "       [2.81528783],\n",
       "       [3.00312515],\n",
       "       [2.8902173 ],\n",
       "       [2.68519704],\n",
       "       [3.47782066],\n",
       "       [3.34670624],\n",
       "       [3.17052922],\n",
       "       [3.48755248],\n",
       "       [3.6063611 ],\n",
       "       [3.73328924],\n",
       "       [3.74169645],\n",
       "       [3.15181885],\n",
       "       [3.16274208],\n",
       "       [3.57826971],\n",
       "       [3.07483197],\n",
       "       [3.18502348],\n",
       "       [3.18991451],\n",
       "       [3.04195998],\n",
       "       [3.12461489],\n",
       "       [3.10959598],\n",
       "       [3.34505098],\n",
       "       [3.27364761],\n",
       "       [3.43621541],\n",
       "       [3.23084398],\n",
       "       [3.38027719],\n",
       "       [3.4305569 ],\n",
       "       [3.50362504],\n",
       "       [3.50663512],\n",
       "       [3.3135144 ],\n",
       "       [3.53093443],\n",
       "       [3.44614102],\n",
       "       [3.11222864],\n",
       "       [3.16928925],\n",
       "       [3.57677839],\n",
       "       [3.48325334],\n",
       "       [3.47813143],\n",
       "       [3.51766055],\n",
       "       [3.39781511],\n",
       "       [3.39550765],\n",
       "       [3.4875131 ],\n",
       "       [3.45450369],\n",
       "       [3.4485215 ],\n",
       "       [3.7382917 ],\n",
       "       [3.58037719],\n",
       "       [3.41683522],\n",
       "       [3.50462988],\n",
       "       [3.34571808],\n",
       "       [3.35831346],\n",
       "       [3.34062162],\n",
       "       [3.59627989],\n",
       "       [3.76551204],\n",
       "       [3.80775994],\n",
       "       [3.11550747],\n",
       "       [3.12911592],\n",
       "       [2.8746038 ],\n",
       "       [3.10631792],\n",
       "       [2.82207032],\n",
       "       [3.04548009],\n",
       "       [2.81284477],\n",
       "       [3.07728965],\n",
       "       [3.19739352],\n",
       "       [2.53488208],\n",
       "       [3.17995346],\n",
       "       [3.23951538],\n",
       "       [3.29576252],\n",
       "       [3.13162525],\n",
       "       [3.3562804 ],\n",
       "       [3.47051588],\n",
       "       [3.05437702],\n",
       "       [3.4331945 ],\n",
       "       [3.37380571],\n",
       "       [3.64209685],\n",
       "       [3.66625753],\n",
       "       [3.63415384],\n",
       "       [3.45561663],\n",
       "       [3.5680094 ],\n",
       "       [3.4694494 ],\n",
       "       [3.17486114],\n",
       "       [3.48753061],\n",
       "       [3.64299993],\n",
       "       [3.60179219],\n",
       "       [3.44281142],\n",
       "       [3.20672595],\n",
       "       [3.37683587],\n",
       "       [3.47595008],\n",
       "       [3.34085275],\n",
       "       [3.3249965 ],\n",
       "       [3.23199002],\n",
       "       [3.13155933],\n",
       "       [3.14400277],\n",
       "       [3.32021207],\n",
       "       [2.88159486],\n",
       "       [2.71922367],\n",
       "       [3.02454755],\n",
       "       [3.00261279],\n",
       "       [3.05098503],\n",
       "       [3.1690765 ],\n",
       "       [3.19080154],\n",
       "       [3.24374378],\n",
       "       [3.21952677],\n",
       "       [3.33879952],\n",
       "       [3.16249347],\n",
       "       [3.06587527],\n",
       "       [3.62491811],\n",
       "       [3.7760419 ],\n",
       "       [3.56733568],\n",
       "       [3.54590641],\n",
       "       [3.49801348],\n",
       "       [3.590205  ],\n",
       "       [3.70026332],\n",
       "       [3.46080978],\n",
       "       [3.54818653],\n",
       "       [3.32848223],\n",
       "       [3.32492346],\n",
       "       [3.69086688],\n",
       "       [3.71778445],\n",
       "       [3.19985809],\n",
       "       [3.07778974],\n",
       "       [3.30077807],\n",
       "       [3.3213273 ],\n",
       "       [3.53786368],\n",
       "       [3.62727771],\n",
       "       [3.53634875],\n",
       "       [3.56100267],\n",
       "       [3.57334979],\n",
       "       [3.38893058],\n",
       "       [3.60339176],\n",
       "       [3.6930985 ],\n",
       "       [3.56568327],\n",
       "       [3.77260033],\n",
       "       [3.87807742],\n",
       "       [3.37781721],\n",
       "       [3.270863  ],\n",
       "       [2.9565082 ],\n",
       "       [3.28823202],\n",
       "       [3.28461136],\n",
       "       [3.24228411],\n",
       "       [3.49830087],\n",
       "       [3.5172927 ],\n",
       "       [3.43815648],\n",
       "       [3.2505858 ],\n",
       "       [3.18783416],\n",
       "       [3.34247408],\n",
       "       [3.29784953],\n",
       "       [2.96950324],\n",
       "       [3.36443365],\n",
       "       [3.43559267],\n",
       "       [3.39021041],\n",
       "       [3.32097158],\n",
       "       [3.33049731],\n",
       "       [3.48637474],\n",
       "       [3.47236989],\n",
       "       [3.39252892],\n",
       "       [3.55104953],\n",
       "       [3.46490311],\n",
       "       [3.34554406],\n",
       "       [3.14243489],\n",
       "       [2.96314231],\n",
       "       [3.2897855 ],\n",
       "       [3.11181528],\n",
       "       [3.21966371],\n",
       "       [3.18984794],\n",
       "       [3.0319623 ],\n",
       "       [2.84974851],\n",
       "       [2.90774414],\n",
       "       [3.14525359],\n",
       "       [3.02846371],\n",
       "       [3.20546089],\n",
       "       [3.21022218],\n",
       "       [3.14501277],\n",
       "       [2.9975713 ],\n",
       "       [3.22422222],\n",
       "       [3.21970664],\n",
       "       [3.17848771],\n",
       "       [2.96843819],\n",
       "       [3.06749659],\n",
       "       [3.18189264],\n",
       "       [3.07810897],\n",
       "       [2.99761301],\n",
       "       [3.14570808],\n",
       "       [3.13484263],\n",
       "       [3.10370329],\n",
       "       [3.0704432 ],\n",
       "       [3.04306095],\n",
       "       [3.00300683],\n",
       "       [3.11854623],\n",
       "       [3.07674125],\n",
       "       [3.08800408],\n",
       "       [3.37604494],\n",
       "       [3.07499508],\n",
       "       [3.2652142 ],\n",
       "       [3.31321216],\n",
       "       [2.89362494],\n",
       "       [2.8129005 ],\n",
       "       [3.18387484],\n",
       "       [3.27808799],\n",
       "       [3.07351366],\n",
       "       [3.03279514],\n",
       "       [3.02981285],\n",
       "       [2.90997329],\n",
       "       [3.2251126 ],\n",
       "       [2.81009583],\n",
       "       [2.90234108],\n",
       "       [2.84153884],\n",
       "       [3.02076918],\n",
       "       [3.02416015],\n",
       "       [2.90242608],\n",
       "       [3.05790156],\n",
       "       [2.87043017],\n",
       "       [2.92823605],\n",
       "       [2.93930016],\n",
       "       [3.52255275],\n",
       "       [2.89581147],\n",
       "       [2.81185086],\n",
       "       [2.6289883 ],\n",
       "       [3.21634618],\n",
       "       [3.45408002],\n",
       "       [3.51221324],\n",
       "       [3.10983756],\n",
       "       [3.18041468],\n",
       "       [2.23546135],\n",
       "       [1.99995929],\n",
       "       [2.96659936],\n",
       "       [2.65520114],\n",
       "       [2.7952488 ],\n",
       "       [2.54352446],\n",
       "       [2.64227575],\n",
       "       [2.10651971],\n",
       "       [2.70647523],\n",
       "       [2.58781486],\n",
       "       [2.57367619],\n",
       "       [2.12981621],\n",
       "       [2.28739687],\n",
       "       [2.22273251],\n",
       "       [2.16405856],\n",
       "       [2.26405958],\n",
       "       [2.6562831 ],\n",
       "       [2.79354609],\n",
       "       [2.77511929],\n",
       "       [2.44850812],\n",
       "       [2.8882656 ],\n",
       "       [2.77858448],\n",
       "       [2.85830839],\n",
       "       [2.82187794],\n",
       "       [2.72858542],\n",
       "       [2.0891517 ],\n",
       "       [2.4116785 ],\n",
       "       [2.3790064 ],\n",
       "       [2.70808538],\n",
       "       [2.74985025],\n",
       "       [2.51801172],\n",
       "       [2.12133117],\n",
       "       [2.02096338],\n",
       "       [2.38890633],\n",
       "       [2.91201477],\n",
       "       [2.58035691],\n",
       "       [2.75271827],\n",
       "       [2.481122  ],\n",
       "       [2.63508176],\n",
       "       [2.02189679],\n",
       "       [2.4501986 ],\n",
       "       [1.60928965],\n",
       "       [2.27098238],\n",
       "       [2.46904171],\n",
       "       [2.20739024],\n",
       "       [1.89389644],\n",
       "       [2.53426343],\n",
       "       [2.83331983],\n",
       "       [2.81878623],\n",
       "       [2.83960078],\n",
       "       [2.54661931],\n",
       "       [2.67516955],\n",
       "       [2.36649674],\n",
       "       [2.71830276],\n",
       "       [2.45861055],\n",
       "       [2.59856686],\n",
       "       [2.50540286],\n",
       "       [2.76902542],\n",
       "       [2.73545109],\n",
       "       [2.95595601],\n",
       "       [2.74786067],\n",
       "       [2.6762636 ],\n",
       "       [2.50051239],\n",
       "       [2.57327019],\n",
       "       [2.29424633],\n",
       "       [2.1029579 ],\n",
       "       [2.57344615],\n",
       "       [2.47736683],\n",
       "       [2.71941443],\n",
       "       [2.83527303],\n",
       "       [2.74804203],\n",
       "       [2.4642005 ],\n",
       "       [2.44933886],\n",
       "       [2.77006064],\n",
       "       [2.78557427],\n",
       "       [2.75705397],\n",
       "       [2.7286487 ],\n",
       "       [2.68799417],\n",
       "       [2.8292175 ],\n",
       "       [2.82516284],\n",
       "       [2.89894015],\n",
       "       [2.61461851],\n",
       "       [2.68330888],\n",
       "       [2.58504275],\n",
       "       [2.59103313],\n",
       "       [2.75976396],\n",
       "       [2.84824747],\n",
       "       [2.82352508],\n",
       "       [2.91401635],\n",
       "       [2.89059029],\n",
       "       [3.01805413],\n",
       "       [2.9206216 ],\n",
       "       [2.87091095],\n",
       "       [2.67687175],\n",
       "       [2.75155319],\n",
       "       [2.72003904],\n",
       "       [2.83892547],\n",
       "       [2.91552864],\n",
       "       [3.05276666],\n",
       "       [3.00888716],\n",
       "       [3.11077447],\n",
       "       [2.76729311],\n",
       "       [2.67162525],\n",
       "       [2.8833389 ],\n",
       "       [2.48467993],\n",
       "       [2.81965146],\n",
       "       [2.9348913 ],\n",
       "       [3.08029526],\n",
       "       [3.21656597],\n",
       "       [3.26224143],\n",
       "       [3.04044223],\n",
       "       [2.94472687],\n",
       "       [3.04383836],\n",
       "       [2.90393022],\n",
       "       [3.01329569],\n",
       "       [2.59430778],\n",
       "       [2.40361804],\n",
       "       [2.19688685],\n",
       "       [2.63795737],\n",
       "       [2.76320996],\n",
       "       [3.01823752],\n",
       "       [2.99180427],\n",
       "       [2.83188221],\n",
       "       [2.70558466],\n",
       "       [2.93894121],\n",
       "       [3.01840208],\n",
       "       [2.91588463],\n",
       "       [2.9743411 ],\n",
       "       [3.0995075 ],\n",
       "       [3.08558215],\n",
       "       [3.26764027],\n",
       "       [3.21373513],\n",
       "       [3.10047812]])"
      ]
     },
     "execution_count": 33,
     "metadata": {},
     "output_type": "execute_result"
    }
   ],
   "source": [
    "# Getting Predictted values\n",
    "\n",
    "fitted_vals = regr.predict(features)\n",
    "fitted_vals"
   ]
  },
  {
   "cell_type": "code",
   "execution_count": 39,
   "id": "d800e365",
   "metadata": {},
   "outputs": [
    {
     "data": {
      "text/plain": [
       "0.03516080084618688"
      ]
     },
     "execution_count": 39,
     "metadata": {},
     "output_type": "execute_result"
    }
   ],
   "source": [
    "MSE = mean_squared_error(target, fitted_vals)\n",
    "MSE"
   ]
  },
  {
   "cell_type": "code",
   "execution_count": 38,
   "id": "b1a0272b",
   "metadata": {},
   "outputs": [
    {
     "data": {
      "text/plain": [
       "0.18751213519713034"
      ]
     },
     "execution_count": 38,
     "metadata": {},
     "output_type": "execute_result"
    }
   ],
   "source": [
    "RMSE = MSE**0.5\n",
    "RMSE"
   ]
  },
  {
   "cell_type": "markdown",
   "id": "a52399e1",
   "metadata": {},
   "source": [
    "### Creating a Function To Estimate Log Prices"
   ]
  },
  {
   "cell_type": "code",
   "execution_count": 54,
   "id": "e961503c",
   "metadata": {},
   "outputs": [],
   "source": [
    "def get_log_estimate(nr_rooms,\n",
    "                    students_per_classroom,\n",
    "                    next_to_river=False,\n",
    "                    high_confidence=True) :\n",
    "    \n",
    "    # Configure property\n",
    "    property_stats[0][RM_IDX] = nr_rooms\n",
    "    property_stats[0][PTRATIO_IDX] = students_per_classroom\n",
    "    \n",
    "    # make prediction\n",
    "    log_estimate = regr.predict(property_stats)[0][0]\n",
    "    # log_estimate = regr.predict(property_stats) will return result in 2 dimensional array\n",
    "    # with adding [0][0] means we will get raw value instead of number in array form\n",
    "    \n",
    "    return log_estimate"
   ]
  },
  {
   "cell_type": "code",
   "execution_count": 56,
   "id": "a78b3b75",
   "metadata": {},
   "outputs": [
    {
     "data": {
      "text/plain": [
       "3.0531418755139272"
      ]
     },
     "execution_count": 56,
     "metadata": {},
     "output_type": "execute_result"
    }
   ],
   "source": [
    "# Testing the function\n",
    "\n",
    "get_log_estimate(3,19)"
   ]
  },
  {
   "cell_type": "code",
   "execution_count": 57,
   "id": "ede2871a",
   "metadata": {},
   "outputs": [
    {
     "data": {
      "text/plain": [
       "3.0531418755139272"
      ]
     },
     "execution_count": 57,
     "metadata": {},
     "output_type": "execute_result"
    }
   ],
   "source": [
    "get_log_estimate(3,10)"
   ]
  },
  {
   "cell_type": "code",
   "execution_count": 60,
   "id": "aadb83c1",
   "metadata": {},
   "outputs": [],
   "source": [
    "# Adding if - else' into function.\n",
    "# because the argument of 'next_to_river' is a dummy variable, '0' or '1'.\n",
    "\n",
    "def get_log_estimate(nr_rooms,\n",
    "                    students_per_classroom,\n",
    "                    next_to_river=False,\n",
    "                    high_confidence=True) :\n",
    "    \n",
    "    # Configure property\n",
    "    property_stats[0][RM_IDX] = nr_rooms\n",
    "    property_stats[0][PTRATIO_IDX] = students_per_classroom\n",
    "    \n",
    "    if next_to_river:\n",
    "        property_stats[0][CHAS_IDX] = 1\n",
    "    else :\n",
    "        property_stats[0][CHAS_IDX] = 0\n",
    "        \n",
    "        \n",
    "    # make prediction\n",
    "    log_estimate = regr.predict(property_stats)[0][0]\n",
    "    # log_estimate = regr.predict(property_stats) will return result in 2 dimensional array\n",
    "    # with adding [0][0] means we will get raw value instead of number in array form\n",
    "    \n",
    "    return log_estimate"
   ]
  },
  {
   "cell_type": "code",
   "execution_count": 61,
   "id": "546bdec1",
   "metadata": {},
   "outputs": [
    {
     "data": {
      "text/plain": [
       "3.151017209904831"
      ]
     },
     "execution_count": 61,
     "metadata": {},
     "output_type": "execute_result"
    }
   ],
   "source": [
    "get_log_estimate(3,10, next_to_river=True)"
   ]
  },
  {
   "attachments": {
    "image-2.png": {
     "image/png": "[encoded data removed]"
    },
    "image.png": {
     "image/png": "[encoded data removed]"
    }
   },
   "cell_type": "markdown",
   "id": "1bb36032",
   "metadata": {},
   "source": [
    "Then we can see the different ![image.png](attachment:image.png) ![image-2.png](attachment:image-2.png)"
   ]
  },
  {
   "cell_type": "code",
   "execution_count": 64,
   "id": "c2346df3",
   "metadata": {},
   "outputs": [],
   "source": [
    "# Configure high confidence\n",
    "\n",
    "def get_log_estimate(nr_rooms,\n",
    "                    students_per_classroom,\n",
    "                    next_to_river=False,\n",
    "                    high_confidence=True) :\n",
    "    \n",
    "    # Configure property\n",
    "    property_stats[0][RM_IDX] = nr_rooms\n",
    "    property_stats[0][PTRATIO_IDX] = students_per_classroom\n",
    "    \n",
    "    if next_to_river:\n",
    "        property_stats[0][CHAS_IDX] = 1\n",
    "    else :\n",
    "        property_stats[0][CHAS_IDX] = 0\n",
    "     \n",
    "    # make prediction\n",
    "    log_estimate = regr.predict(property_stats)[0][0]\n",
    "    \n",
    "    # Calculation Range \n",
    "    if high_confidence :\n",
    "        upper_bound = log_estimate + 2*RMSE\n",
    "        lower_bound = log_estimate - 2*RMSE\n",
    "        interval = 95\n",
    "    else :\n",
    "        upper_bound = log_estimate + RMSE\n",
    "        lower_bound = log_estimate - RMSE\n",
    "        interval = 68\n",
    "        \n",
    "    return log_estimate, upper_bound, lower_bound, interval"
   ]
  },
  {
   "cell_type": "code",
   "execution_count": 65,
   "id": "ba9f92d5",
   "metadata": {},
   "outputs": [
    {
     "data": {
      "text/plain": [
       "(3.151017209904831, 3.5260414802990914, 2.7759929395105702, 95)"
      ]
     },
     "execution_count": 65,
     "metadata": {},
     "output_type": "execute_result"
    }
   ],
   "source": [
    "get_log_estimate(3,10, next_to_river=True)"
   ]
  },
  {
   "cell_type": "code",
   "execution_count": 67,
   "id": "ba7ec277",
   "metadata": {},
   "outputs": [
    {
     "data": {
      "text/plain": [
       "(3.151017209904831, 3.338529345101961, 2.9635050747077005, 68)"
      ]
     },
     "execution_count": 67,
     "metadata": {},
     "output_type": "execute_result"
    }
   ],
   "source": [
    "get_log_estimate(3,10, next_to_river=True, high_confidence = False)"
   ]
  },
  {
   "cell_type": "markdown",
   "id": "4f56b877",
   "metadata": {},
   "source": [
    "## Adapting Valuation Tool to The Latest Situation"
   ]
  },
  {
   "cell_type": "markdown",
   "id": "f26f6458",
   "metadata": {},
   "source": [
    "The data we got is coming from the past, 1970s. So what we will do now is adapting our valuation tool with our time. We need some index that comes from our time and do some modification to our calculation"
   ]
  },
  {
   "cell_type": "code",
   "execution_count": 82,
   "id": "d2ee1928",
   "metadata": {},
   "outputs": [
    {
     "data": {
      "text/plain": [
       "21.2"
      ]
     },
     "execution_count": 82,
     "metadata": {},
     "output_type": "execute_result"
    }
   ],
   "source": [
    "# Getting Median of or dataset\n",
    "\n",
    "median_property = np.median(boston_dataset.target)\n",
    "median_property"
   ]
  },
  {
   "attachments": {
    "image.png": {
     "image/png": "[encoded data removed]"
    }
   },
   "cell_type": "markdown",
   "id": "bd5b3a98",
   "metadata": {},
   "source": [
    "#### Getting median of property in our time\n",
    "![image.png](attachment:image.png)\n",
    "\n",
    "Let's say, the median of property in our time is : 583"
   ]
  },
  {
   "cell_type": "code",
   "execution_count": 84,
   "id": "60d58d1a",
   "metadata": {},
   "outputs": [],
   "source": [
    "zillow_median_price = 583"
   ]
  },
  {
   "cell_type": "code",
   "execution_count": 85,
   "id": "bcdc1014",
   "metadata": {},
   "outputs": [
    {
     "data": {
      "text/plain": [
       "27.5"
      ]
     },
     "execution_count": 85,
     "metadata": {},
     "output_type": "execute_result"
    }
   ],
   "source": [
    "# Getting Realistic Value of Our Time\n",
    "\n",
    "scale_factor = zillow_median_price / median_property\n",
    "scale_factor"
   ]
  },
  {
   "cell_type": "code",
   "execution_count": 87,
   "id": "5beb273d",
   "metadata": {},
   "outputs": [],
   "source": [
    "log_est, upper, lower, conf = get_log_estimate(9, students_per_classroom=15,\n",
    "                                              next_to_river=False, high_confidence=False)"
   ]
  },
  {
   "cell_type": "code",
   "execution_count": 91,
   "id": "e34439eb",
   "metadata": {},
   "outputs": [
    {
     "data": {
      "text/plain": [
       "826300.0"
      ]
     },
     "execution_count": 91,
     "metadata": {},
     "output_type": "execute_result"
    }
   ],
   "source": [
    "# convert to today's dollar\n",
    "dollar_est = np.e**log_est * 1000 * scale_factor\n",
    "round(dollar_est,-2)"
   ]
  },
  {
   "cell_type": "code",
   "execution_count": 92,
   "id": "124b8286",
   "metadata": {},
   "outputs": [
    {
     "data": {
      "text/plain": [
       "996700.0"
      ]
     },
     "execution_count": 92,
     "metadata": {},
     "output_type": "execute_result"
    }
   ],
   "source": [
    "upper_price = np.e**upper*1000*scale_factor\n",
    "round(upper_price,-2)"
   ]
  },
  {
   "cell_type": "code",
   "execution_count": 93,
   "id": "e2004d13",
   "metadata": {},
   "outputs": [
    {
     "data": {
      "text/plain": [
       "685000.0"
      ]
     },
     "execution_count": 93,
     "metadata": {},
     "output_type": "execute_result"
    }
   ],
   "source": [
    "lower_price = np.e**lower*1000*scale_factor\n",
    "round(lower_price,-2)"
   ]
  },
  {
   "cell_type": "markdown",
   "id": "86713d67",
   "metadata": {},
   "source": [
    "### Wrapping Them All Into A Function"
   ]
  },
  {
   "cell_type": "code",
   "execution_count": 96,
   "id": "cfec13ad",
   "metadata": {},
   "outputs": [],
   "source": [
    "def get_dollar_estimated(rm, ptratio, chas=False, large_range=True) :\n",
    "    log_est, upper, lower, conf = get_log_estimate(rm, ptratio,\n",
    "                                              next_to_river=chas, high_confidence=large_range)\n",
    "    \n",
    "    # convert to today's dollar\n",
    "    \n",
    "    \n",
    "    dollar_est = np.e**log_est * 1000 * scale_factor\n",
    "    upper_price = np.e**upper*1000*scale_factor\n",
    "    lower_price = np.e**lower*1000*scale_factor\n",
    "    \n",
    "    print('The estimated property value is $', round(dollar_est,-2))\n",
    "    print(f'At {conf}% confidence the valuation range is')\n",
    "    print(f'USD {round(lower_price,-2)} at the lower end to USD {round(upper_price,-2)} at the high end.')"
   ]
  },
  {
   "cell_type": "code",
   "execution_count": 97,
   "id": "1055015b",
   "metadata": {},
   "outputs": [
    {
     "name": "stdout",
     "output_type": "stream",
     "text": [
      "The estimated property value is $ 782400.0\n",
      "At 95% confidence the valuation range is\n",
      "USD 537700.0 at the lower end to USD 1138400.0 at the high end.\n"
     ]
    }
   ],
   "source": [
    "get_dollar_estimated(6,12, True)"
   ]
  },
  {
   "cell_type": "markdown",
   "id": "e384218d",
   "metadata": {},
   "source": [
    "### Exericise : Do Improvitation"
   ]
  },
  {
   "cell_type": "code",
   "execution_count": 99,
   "id": "2912c8f9",
   "metadata": {},
   "outputs": [
    {
     "data": {
      "text/html": [
       "<div>\n",
       "<style scoped>\n",
       "    .dataframe tbody tr th:only-of-type {\n",
       "        vertical-align: middle;\n",
       "    }\n",
       "\n",
       "    .dataframe tbody tr th {\n",
       "        vertical-align: top;\n",
       "    }\n",
       "\n",
       "    .dataframe thead th {\n",
       "        text-align: right;\n",
       "    }\n",
       "</style>\n",
       "<table border=\"1\" class=\"dataframe\">\n",
       "  <thead>\n",
       "    <tr style=\"text-align: right;\">\n",
       "      <th></th>\n",
       "      <th>CRIM</th>\n",
       "      <th>CHAS</th>\n",
       "      <th>NOX</th>\n",
       "      <th>RM</th>\n",
       "      <th>DIS</th>\n",
       "      <th>RAD</th>\n",
       "      <th>TAX</th>\n",
       "      <th>PTRATIO</th>\n",
       "      <th>LSTAT</th>\n",
       "    </tr>\n",
       "  </thead>\n",
       "  <tbody>\n",
       "    <tr>\n",
       "      <th>0</th>\n",
       "      <td>0.00632</td>\n",
       "      <td>0.0</td>\n",
       "      <td>0.538</td>\n",
       "      <td>6.575</td>\n",
       "      <td>4.0900</td>\n",
       "      <td>1.0</td>\n",
       "      <td>296.0</td>\n",
       "      <td>15.3</td>\n",
       "      <td>4.98</td>\n",
       "    </tr>\n",
       "    <tr>\n",
       "      <th>1</th>\n",
       "      <td>0.02731</td>\n",
       "      <td>0.0</td>\n",
       "      <td>0.469</td>\n",
       "      <td>6.421</td>\n",
       "      <td>4.9671</td>\n",
       "      <td>2.0</td>\n",
       "      <td>242.0</td>\n",
       "      <td>17.8</td>\n",
       "      <td>9.14</td>\n",
       "    </tr>\n",
       "  </tbody>\n",
       "</table>\n",
       "</div>"
      ],
      "text/plain": [
       "      CRIM  CHAS    NOX     RM     DIS  RAD    TAX  PTRATIO  LSTAT\n",
       "0  0.00632   0.0  0.538  6.575  4.0900  1.0  296.0     15.3   4.98\n",
       "1  0.02731   0.0  0.469  6.421  4.9671  2.0  242.0     17.8   9.14"
      ]
     },
     "execution_count": 99,
     "metadata": {},
     "output_type": "execute_result"
    }
   ],
   "source": [
    "featurex = data.drop(['INDUS', 'AGE','B','ZN'], axis=1)\n",
    "featurex.head(2)"
   ]
  },
  {
   "cell_type": "code",
   "execution_count": 102,
   "id": "0048a0cd",
   "metadata": {},
   "outputs": [
    {
     "data": {
      "text/plain": [
       "CRIM         3.613524\n",
       "CHAS         0.069170\n",
       "NOX          0.554695\n",
       "RM           6.284634\n",
       "DIS          3.795043\n",
       "RAD          9.549407\n",
       "TAX        408.237154\n",
       "PTRATIO     18.455534\n",
       "LSTAT       12.653063\n",
       "dtype: float64"
      ]
     },
     "execution_count": 102,
     "metadata": {},
     "output_type": "execute_result"
    }
   ],
   "source": [
    "featurex.mean()"
   ]
  },
  {
   "cell_type": "code",
   "execution_count": 101,
   "id": "b596af49",
   "metadata": {},
   "outputs": [
    {
     "data": {
      "text/plain": [
       "array([[3.61352356e+00, 6.91699605e-02, 5.54695059e-01, 6.28463439e+00,\n",
       "        3.79504269e+00, 9.54940711e+00, 4.08237154e+02, 1.84555336e+01,\n",
       "        1.26530632e+01]])"
      ]
     },
     "execution_count": 101,
     "metadata": {},
     "output_type": "execute_result"
    }
   ],
   "source": [
    "featurex.mean().values.reshape(1,9)"
   ]
  },
  {
   "cell_type": "code",
   "execution_count": 120,
   "id": "1a22ff13",
   "metadata": {},
   "outputs": [
    {
     "data": {
      "text/plain": [
       "array([[3.61352356e+00, 6.91699605e-02, 5.54695059e-01, 6.28463439e+00,\n",
       "        3.79504269e+00, 9.54940711e+00, 4.08237154e+02, 1.84555336e+01,\n",
       "        1.26530632e+01]])"
      ]
     },
     "execution_count": 120,
     "metadata": {},
     "output_type": "execute_result"
    }
   ],
   "source": [
    "CRIME_IDX = 0\n",
    "CHAS_IDX = 1\n",
    "NOX_IDX = 2\n",
    "RM_IDX = 3\n",
    "DIS_IDX = 4\n",
    "RAD_IDX = 5\n",
    "TAX_IDX = 6\n",
    "PTRATIO_IDX = 7\n",
    "LSTAT_IDX = 8\n",
    "\n",
    "\n",
    "\n",
    "property_statx = featurex.mean().values.reshape(1,9)\n",
    "property_statx"
   ]
  },
  {
   "cell_type": "markdown",
   "id": "31381a6b",
   "metadata": {},
   "source": [
    "### Calculate the MSE and R-MSE"
   ]
  },
  {
   "cell_type": "code",
   "execution_count": 106,
   "id": "abfcc796",
   "metadata": {},
   "outputs": [],
   "source": [
    "# fitting the target and the featurex with LINEREGRESSION Module from sckit learn \n",
    "\n",
    "regrx = LinearRegression().fit(featurex, target)"
   ]
  },
  {
   "cell_type": "code",
   "execution_count": 110,
   "id": "e74d5d67",
   "metadata": {
    "collapsed": true
   },
   "outputs": [
    {
     "data": {
      "text/plain": [
       "array([[3.39938006],\n",
       "       [3.21694817],\n",
       "       [3.43708624],\n",
       "       [3.39842487],\n",
       "       [3.34053314],\n",
       "       [3.28013509],\n",
       "       [3.11732406],\n",
       "       [2.91418352],\n",
       "       [2.53926118],\n",
       "       [2.9306423 ],\n",
       "       [2.87528305],\n",
       "       [3.06174016],\n",
       "       [3.01390039],\n",
       "       [3.01276274],\n",
       "       [2.97765479],\n",
       "       [3.00567109],\n",
       "       [3.06624091],\n",
       "       [2.84500904],\n",
       "       [2.9060841 ],\n",
       "       [2.94339464],\n",
       "       [2.63477487],\n",
       "       [2.87804595],\n",
       "       [2.74646096],\n",
       "       [2.67977977],\n",
       "       [2.78470506],\n",
       "       [2.74585053],\n",
       "       [2.80700638],\n",
       "       [2.7620637 ],\n",
       "       [2.93703695],\n",
       "       [2.98472252],\n",
       "       [2.58239381],\n",
       "       [2.89837156],\n",
       "       [2.46036306],\n",
       "       [2.72726904],\n",
       "       [2.70003826],\n",
       "       [3.16671937],\n",
       "       [3.10600427],\n",
       "       [3.16016119],\n",
       "       [3.1331568 ],\n",
       "       [3.37529562],\n",
       "       [3.48314473],\n",
       "       [3.37039887],\n",
       "       [3.28752249],\n",
       "       [3.24276333],\n",
       "       [3.16783051],\n",
       "       [3.14101943],\n",
       "       [3.03333082],\n",
       "       [2.89029534],\n",
       "       [2.46905086],\n",
       "       [2.91108426],\n",
       "       [3.05221603],\n",
       "       [3.18556479],\n",
       "       [3.34408325],\n",
       "       [3.20464765],\n",
       "       [2.70141258],\n",
       "       [3.34516886],\n",
       "       [3.15235178],\n",
       "       [3.43938549],\n",
       "       [3.11795427],\n",
       "       [3.06881444],\n",
       "       [2.921822  ],\n",
       "       [2.92190765],\n",
       "       [3.176822  ],\n",
       "       [3.08785369],\n",
       "       [3.15412777],\n",
       "       [3.36283767],\n",
       "       [3.15240669],\n",
       "       [3.10314079],\n",
       "       [2.92882974],\n",
       "       [3.08255714],\n",
       "       [3.25264044],\n",
       "       [3.11723372],\n",
       "       [3.25658803],\n",
       "       [3.21173716],\n",
       "       [3.24934879],\n",
       "       [3.17494409],\n",
       "       [3.10473345],\n",
       "       [3.14109328],\n",
       "       [3.04657255],\n",
       "       [3.13332824],\n",
       "       [3.3286921 ],\n",
       "       [3.26172178],\n",
       "       [3.24817412],\n",
       "       [3.21263646],\n",
       "       [3.20540587],\n",
       "       [3.33404385],\n",
       "       [3.09163578],\n",
       "       [3.26272139],\n",
       "       [3.41641341],\n",
       "       [3.41730999],\n",
       "       [3.2802621 ],\n",
       "       [3.29736421],\n",
       "       [3.30433587],\n",
       "       [3.34156708],\n",
       "       [3.2172325 ],\n",
       "       [3.36758826],\n",
       "       [3.1870953 ],\n",
       "       [3.56960978],\n",
       "       [3.5666491 ],\n",
       "       [3.45281879],\n",
       "       [3.13057886],\n",
       "       [3.18415493],\n",
       "       [3.06778059],\n",
       "       [2.96056754],\n",
       "       [3.01021373],\n",
       "       [2.87332772],\n",
       "       [2.80192028],\n",
       "       [2.96800508],\n",
       "       [3.03914262],\n",
       "       [2.91335911],\n",
       "       [2.97707913],\n",
       "       [3.20335887],\n",
       "       [2.96633256],\n",
       "       [2.94646239],\n",
       "       [3.17194264],\n",
       "       [2.97555707],\n",
       "       [3.09650812],\n",
       "       [3.13320515],\n",
       "       [2.98187932],\n",
       "       [3.0085392 ],\n",
       "       [3.02169019],\n",
       "       [3.03938218],\n",
       "       [2.93174348],\n",
       "       [2.70631249],\n",
       "       [2.93834294],\n",
       "       [3.02995063],\n",
       "       [2.63555989],\n",
       "       [2.71609591],\n",
       "       [2.83393745],\n",
       "       [2.66167489],\n",
       "       [2.90512443],\n",
       "       [2.88737274],\n",
       "       [2.92919239],\n",
       "       [2.76019401],\n",
       "       [2.68544591],\n",
       "       [2.76281059],\n",
       "       [2.73830794],\n",
       "       [2.85775574],\n",
       "       [2.61384683],\n",
       "       [2.72191259],\n",
       "       [2.56020744],\n",
       "       [2.14605769],\n",
       "       [2.60172887],\n",
       "       [2.49526164],\n",
       "       [2.3764486 ],\n",
       "       [2.53176414],\n",
       "       [2.81534722],\n",
       "       [2.37059023],\n",
       "       [2.42711156],\n",
       "       [2.66362959],\n",
       "       [2.93605879],\n",
       "       [2.89881396],\n",
       "       [3.01293515],\n",
       "       [2.84337152],\n",
       "       [3.01490373],\n",
       "       [2.99749086],\n",
       "       [2.78547071],\n",
       "       [3.49524311],\n",
       "       [3.36608413],\n",
       "       [3.16567686],\n",
       "       [3.52088042],\n",
       "       [3.62229682],\n",
       "       [3.74947402],\n",
       "       [3.75727865],\n",
       "       [3.15292444],\n",
       "       [3.2283635 ],\n",
       "       [3.59415982],\n",
       "       [3.14469946],\n",
       "       [3.22461392],\n",
       "       [3.21661119],\n",
       "       [3.08292933],\n",
       "       [3.14443416],\n",
       "       [3.10666681],\n",
       "       [3.34823921],\n",
       "       [3.27800255],\n",
       "       [3.44825114],\n",
       "       [3.24014135],\n",
       "       [3.39080784],\n",
       "       [3.43909401],\n",
       "       [3.50815155],\n",
       "       [3.50778679],\n",
       "       [3.31262922],\n",
       "       [3.53583349],\n",
       "       [3.4504679 ],\n",
       "       [3.1120358 ],\n",
       "       [3.17300217],\n",
       "       [3.58535162],\n",
       "       [3.46011738],\n",
       "       [3.46704915],\n",
       "       [3.4993572 ],\n",
       "       [3.40045924],\n",
       "       [3.39381419],\n",
       "       [3.48701653],\n",
       "       [3.43441228],\n",
       "       [3.43617101],\n",
       "       [3.69210668],\n",
       "       [3.55419773],\n",
       "       [3.40362422],\n",
       "       [3.47772969],\n",
       "       [3.2936776 ],\n",
       "       [3.31145146],\n",
       "       [3.29739769],\n",
       "       [3.55565432],\n",
       "       [3.69786024],\n",
       "       [3.7418514 ],\n",
       "       [3.12125184],\n",
       "       [3.13785039],\n",
       "       [2.87859761],\n",
       "       [3.1229348 ],\n",
       "       [2.82154223],\n",
       "       [3.0521391 ],\n",
       "       [2.81065998],\n",
       "       [3.08486088],\n",
       "       [3.20885111],\n",
       "       [2.53880092],\n",
       "       [3.18824065],\n",
       "       [3.24648632],\n",
       "       [3.30143829],\n",
       "       [3.13072855],\n",
       "       [3.36721778],\n",
       "       [3.4770899 ],\n",
       "       [3.04902552],\n",
       "       [3.44273247],\n",
       "       [3.37667994],\n",
       "       [3.64988129],\n",
       "       [3.67430394],\n",
       "       [3.64431744],\n",
       "       [3.46946523],\n",
       "       [3.58280081],\n",
       "       [3.48420002],\n",
       "       [3.18454238],\n",
       "       [3.50361193],\n",
       "       [3.65799479],\n",
       "       [3.61704732],\n",
       "       [3.46946684],\n",
       "       [3.2175184 ],\n",
       "       [3.39356594],\n",
       "       [3.48976579],\n",
       "       [3.34876294],\n",
       "       [3.32992562],\n",
       "       [3.23030593],\n",
       "       [3.12812664],\n",
       "       [3.15517657],\n",
       "       [3.33688285],\n",
       "       [2.8992427 ],\n",
       "       [2.72372641],\n",
       "       [3.03856259],\n",
       "       [3.02132511],\n",
       "       [3.06928078],\n",
       "       [3.18237058],\n",
       "       [3.20115546],\n",
       "       [3.26447502],\n",
       "       [3.2460519 ],\n",
       "       [3.3595959 ],\n",
       "       [3.13928367],\n",
       "       [3.03911078],\n",
       "       [3.5741455 ],\n",
       "       [3.7562159 ],\n",
       "       [3.54915846],\n",
       "       [3.52629769],\n",
       "       [3.47559689],\n",
       "       [3.57196992],\n",
       "       [3.68426809],\n",
       "       [3.43596412],\n",
       "       [3.5281687 ],\n",
       "       [3.30588935],\n",
       "       [3.30085707],\n",
       "       [3.6801805 ],\n",
       "       [3.71291707],\n",
       "       [3.19084498],\n",
       "       [3.067235  ],\n",
       "       [3.29326965],\n",
       "       [3.3098281 ],\n",
       "       [3.53784037],\n",
       "       [3.60917193],\n",
       "       [3.51329859],\n",
       "       [3.54757106],\n",
       "       [3.56107492],\n",
       "       [3.36095644],\n",
       "       [3.60495218],\n",
       "       [3.70281028],\n",
       "       [3.57684306],\n",
       "       [3.79751889],\n",
       "       [3.8336951 ],\n",
       "       [3.32999565],\n",
       "       [3.26249278],\n",
       "       [2.93978571],\n",
       "       [3.27265055],\n",
       "       [3.26844908],\n",
       "       [3.23428286],\n",
       "       [3.43452391],\n",
       "       [3.45300337],\n",
       "       [3.37314286],\n",
       "       [3.28030096],\n",
       "       [3.21573924],\n",
       "       [3.37710561],\n",
       "       [3.33311476],\n",
       "       [2.99719995],\n",
       "       [3.35580109],\n",
       "       [3.42520788],\n",
       "       [3.37062392],\n",
       "       [3.31077405],\n",
       "       [3.32624833],\n",
       "       [3.4828848 ],\n",
       "       [3.44391849],\n",
       "       [3.35839486],\n",
       "       [3.51555128],\n",
       "       [3.42935177],\n",
       "       [3.35063785],\n",
       "       [3.14132078],\n",
       "       [2.97440513],\n",
       "       [3.28929124],\n",
       "       [3.10706482],\n",
       "       [3.22271809],\n",
       "       [3.19241774],\n",
       "       [3.03494098],\n",
       "       [2.84804269],\n",
       "       [2.90635347],\n",
       "       [3.14658195],\n",
       "       [3.03015897],\n",
       "       [3.21451776],\n",
       "       [3.21966595],\n",
       "       [3.15500356],\n",
       "       [3.00601138],\n",
       "       [3.23554659],\n",
       "       [3.23803292],\n",
       "       [3.19442634],\n",
       "       [2.97761454],\n",
       "       [3.10017676],\n",
       "       [3.21991053],\n",
       "       [3.1215086 ],\n",
       "       [2.99520262],\n",
       "       [3.16096686],\n",
       "       [3.15592107],\n",
       "       [3.12379366],\n",
       "       [3.08326201],\n",
       "       [3.04921782],\n",
       "       [3.01171393],\n",
       "       [3.12346777],\n",
       "       [3.08011301],\n",
       "       [3.09186224],\n",
       "       [3.38506427],\n",
       "       [3.11407608],\n",
       "       [3.23109149],\n",
       "       [3.29011239],\n",
       "       [2.93695772],\n",
       "       [2.8627534 ],\n",
       "       [3.14176571],\n",
       "       [3.24108746],\n",
       "       [3.08065494],\n",
       "       [3.03731987],\n",
       "       [3.04081244],\n",
       "       [2.91027887],\n",
       "       [3.20393891],\n",
       "       [2.77841494],\n",
       "       [2.87579524],\n",
       "       [2.80590107],\n",
       "       [2.98818295],\n",
       "       [2.99296289],\n",
       "       [2.86418996],\n",
       "       [3.03118693],\n",
       "       [2.8457672 ],\n",
       "       [2.89493403],\n",
       "       [2.91755229],\n",
       "       [3.51125869],\n",
       "       [2.87822808],\n",
       "       [2.80294618],\n",
       "       [2.6990564 ],\n",
       "       [3.19709415],\n",
       "       [3.43944442],\n",
       "       [3.48988282],\n",
       "       [3.08418295],\n",
       "       [3.16744595],\n",
       "       [2.16852513],\n",
       "       [1.9275451 ],\n",
       "       [2.91775479],\n",
       "       [2.61229526],\n",
       "       [2.74230713],\n",
       "       [2.48378551],\n",
       "       [2.58798573],\n",
       "       [2.03073112],\n",
       "       [2.65288881],\n",
       "       [2.53315897],\n",
       "       [2.51812737],\n",
       "       [2.10996001],\n",
       "       [2.22174419],\n",
       "       [2.15795008],\n",
       "       [2.09601723],\n",
       "       [2.21078006],\n",
       "       [2.60597359],\n",
       "       [2.74961177],\n",
       "       [2.73792537],\n",
       "       [2.39252215],\n",
       "       [2.84394978],\n",
       "       [2.73161238],\n",
       "       [2.81327095],\n",
       "       [2.77316295],\n",
       "       [2.68054026],\n",
       "       [2.01704388],\n",
       "       [2.37399498],\n",
       "       [2.31568378],\n",
       "       [2.65486811],\n",
       "       [2.7071953 ],\n",
       "       [2.46345218],\n",
       "       [2.08003918],\n",
       "       [1.95095917],\n",
       "       [2.34302997],\n",
       "       [2.89608966],\n",
       "       [2.56361039],\n",
       "       [2.79531564],\n",
       "       [2.59481396],\n",
       "       [2.73643568],\n",
       "       [2.11233023],\n",
       "       [2.47684663],\n",
       "       [1.65721573],\n",
       "       [2.36241067],\n",
       "       [2.56833814],\n",
       "       [2.25710751],\n",
       "       [1.97973207],\n",
       "       [2.62241391],\n",
       "       [2.81907789],\n",
       "       [2.80518657],\n",
       "       [2.84575675],\n",
       "       [2.66417417],\n",
       "       [2.80095111],\n",
       "       [2.47264135],\n",
       "       [2.8350992 ],\n",
       "       [2.56244293],\n",
       "       [2.67381583],\n",
       "       [2.59218622],\n",
       "       [2.86070353],\n",
       "       [2.82510579],\n",
       "       [3.04915696],\n",
       "       [2.8277729 ],\n",
       "       [2.75381467],\n",
       "       [2.56378961],\n",
       "       [2.67425829],\n",
       "       [2.39332993],\n",
       "       [2.16956345],\n",
       "       [2.51815465],\n",
       "       [2.42091626],\n",
       "       [2.67298637],\n",
       "       [2.78908504],\n",
       "       [2.70128067],\n",
       "       [2.47162561],\n",
       "       [2.53886008],\n",
       "       [2.75478607],\n",
       "       [2.74226805],\n",
       "       [2.71107386],\n",
       "       [2.71959706],\n",
       "       [2.80722122],\n",
       "       [2.80236712],\n",
       "       [2.78702193],\n",
       "       [2.86365016],\n",
       "       [2.73006549],\n",
       "       [2.782537  ],\n",
       "       [2.70149862],\n",
       "       [2.71266294],\n",
       "       [2.77109481],\n",
       "       [2.8098215 ],\n",
       "       [2.84110979],\n",
       "       [2.87772781],\n",
       "       [2.85286254],\n",
       "       [2.98604384],\n",
       "       [2.8889335 ],\n",
       "       [2.86674778],\n",
       "       [2.79680274],\n",
       "       [2.74196869],\n",
       "       [2.6972595 ],\n",
       "       [2.80856886],\n",
       "       [2.8875403 ],\n",
       "       [3.03285578],\n",
       "       [2.98352105],\n",
       "       [3.09036054],\n",
       "       [2.75080426],\n",
       "       [2.66788362],\n",
       "       [2.84552774],\n",
       "       [2.45580771],\n",
       "       [2.78687285],\n",
       "       [2.90290848],\n",
       "       [3.06347367],\n",
       "       [3.20346575],\n",
       "       [3.24922851],\n",
       "       [3.03147004],\n",
       "       [2.93589147],\n",
       "       [3.03143446],\n",
       "       [2.88178628],\n",
       "       [2.99461587],\n",
       "       [2.58032985],\n",
       "       [2.40408227],\n",
       "       [2.2026325 ],\n",
       "       [2.62587793],\n",
       "       [2.75487364],\n",
       "       [3.00564086],\n",
       "       [2.97731352],\n",
       "       [2.81764878],\n",
       "       [2.68634689],\n",
       "       [2.92737495],\n",
       "       [3.00472674],\n",
       "       [2.90074276],\n",
       "       [2.95976231],\n",
       "       [3.08857597],\n",
       "       [3.07242259],\n",
       "       [3.25654987],\n",
       "       [3.20477673],\n",
       "       [3.09008225]])"
      ]
     },
     "execution_count": 110,
     "metadata": {},
     "output_type": "execute_result"
    }
   ],
   "source": [
    "fitted_valx = regrx.predict(featurex)\n",
    "fitted_valx"
   ]
  },
  {
   "cell_type": "code",
   "execution_count": 137,
   "id": "6f78a9f6",
   "metadata": {},
   "outputs": [
    {
     "data": {
      "text/plain": [
       "0.0365118128040271"
      ]
     },
     "execution_count": 137,
     "metadata": {},
     "output_type": "execute_result"
    }
   ],
   "source": [
    "MSEx = mean_squared_error(target, fitted_valx)\n",
    "MSEx"
   ]
  },
  {
   "cell_type": "code",
   "execution_count": 138,
   "id": "69ce371b",
   "metadata": {},
   "outputs": [
    {
     "data": {
      "text/plain": [
       "0.191080644765573"
      ]
     },
     "execution_count": 138,
     "metadata": {},
     "output_type": "execute_result"
    }
   ],
   "source": [
    "RMSEx = MSEx**0.5\n",
    "RMSEx"
   ]
  },
  {
   "cell_type": "markdown",
   "id": "d77f3ef3",
   "metadata": {},
   "source": [
    "### Making a Function"
   ]
  },
  {
   "cell_type": "code",
   "execution_count": 139,
   "id": "2d84978a",
   "metadata": {},
   "outputs": [],
   "source": [
    "def x_log_estimate(total_rooms,\n",
    "                   polution_index,\n",
    "                   students_per_classroom,\n",
    "                   weighted_distance_to_workplace,\n",
    "                   next_to_river=False,\n",
    "                   high_confidence=True) :\n",
    "    \n",
    "    # Configure property\n",
    "    property_statx[0][RM_IDX] = total_rooms\n",
    "    property_statx[0][PTRATIO_IDX] = students_per_classroom\n",
    "    property_statx[0][NOX_IDX] = polution_index\n",
    "    property_statx[0][DIS_IDX] = weighted_distance_to_workplace\n",
    "    property_statx[0][CHAS_IDX] = next_to_river\n",
    "    \n",
    "    if next_to_river:\n",
    "        property_statx[0][CHAS_IDX] = 1\n",
    "    else :\n",
    "        property_statx[0][CHAS_IDX] = 0\n",
    "    \n",
    "    # make prediction\n",
    "    log_estimatex = regrx.predict(property_statx)[0][0]\n",
    "    \n",
    "    \n",
    "    # Calculation Range \n",
    "    if high_confidence :\n",
    "        upper_bound = log_estimatex + 2*RMSEx\n",
    "        lower_bound = log_estimatex - 2*RMSEx\n",
    "        interval = 95\n",
    "    else :\n",
    "        upper_bound = log_estimatex + RMSEx\n",
    "        lower_bound = log_estimatex - RMSEx\n",
    "        interval = 68\n",
    "        \n",
    "    return log_estimatex, upper_bound, lower_bound, interval\n",
    "    "
   ]
  },
  {
   "cell_type": "code",
   "execution_count": 140,
   "id": "f6c801e6",
   "metadata": {},
   "outputs": [
    {
     "data": {
      "text/plain": [
       "(2.015257251803663, 2.397418541334809, 1.633095962272517, 95)"
      ]
     },
     "execution_count": 140,
     "metadata": {},
     "output_type": "execute_result"
    }
   ],
   "source": [
    "# Testing Fucntion\n",
    "\n",
    "x_log_estimate(total_rooms = 4,\n",
    "               polution_index = 1,\n",
    "               students_per_classroom = 25,\n",
    "               weighted_distance_to_workplace = 8,\n",
    "               next_to_river = False,\n",
    "               high_confidence = True\n",
    "               )"
   ]
  },
  {
   "cell_type": "markdown",
   "id": "f72803e8",
   "metadata": {},
   "source": [
    "## Adapting Valuation Tool to The Latest Situation"
   ]
  },
  {
   "cell_type": "markdown",
   "id": "3fb703fc",
   "metadata": {},
   "source": [
    "### Step 1 : Getting Median from our dataset"
   ]
  },
  {
   "cell_type": "code",
   "execution_count": 116,
   "id": "f971d202",
   "metadata": {},
   "outputs": [
    {
     "data": {
      "text/plain": [
       "CRIM         3.613524\n",
       "CHAS         0.069170\n",
       "NOX          0.554695\n",
       "RM           6.284634\n",
       "DIS          3.795043\n",
       "RAD          9.549407\n",
       "TAX        408.237154\n",
       "PTRATIO     18.455534\n",
       "LSTAT       12.653063\n",
       "dtype: float64"
      ]
     },
     "execution_count": 116,
     "metadata": {},
     "output_type": "execute_result"
    }
   ],
   "source": [
    "featurex.mean()"
   ]
  },
  {
   "cell_type": "code",
   "execution_count": 141,
   "id": "f3f9b543",
   "metadata": {},
   "outputs": [
    {
     "data": {
      "text/plain": [
       "21.2"
      ]
     },
     "execution_count": 141,
     "metadata": {},
     "output_type": "execute_result"
    }
   ],
   "source": [
    "median_propertyx = np.median(boston_dataset.target)\n",
    "median_propertyx"
   ]
  },
  {
   "cell_type": "markdown",
   "id": "3ce54233",
   "metadata": {},
   "source": [
    "### Step 2 : Getting Median from Today's dataset"
   ]
  },
  {
   "cell_type": "code",
   "execution_count": 142,
   "id": "c4610c92",
   "metadata": {},
   "outputs": [],
   "source": [
    "# taking data from zillow.com\n",
    "\n",
    "zillow_median_price = 583"
   ]
  },
  {
   "cell_type": "markdown",
   "id": "a174bd92",
   "metadata": {},
   "source": [
    "### Step 3 : Scalling Median Factor from Past vs Now "
   ]
  },
  {
   "cell_type": "code",
   "execution_count": 143,
   "id": "32f413dc",
   "metadata": {},
   "outputs": [
    {
     "data": {
      "text/plain": [
       "27.5"
      ]
     },
     "execution_count": 143,
     "metadata": {},
     "output_type": "execute_result"
    }
   ],
   "source": [
    "scale_factor = zillow_median_price / median_propertyx\n",
    "scale_factor"
   ]
  },
  {
   "cell_type": "markdown",
   "id": "572013e6",
   "metadata": {},
   "source": [
    "### Step 4 : Converting Price into Today's Inflation"
   ]
  },
  {
   "cell_type": "code",
   "execution_count": 144,
   "id": "cc0f2f83",
   "metadata": {},
   "outputs": [
    {
     "name": "stdout",
     "output_type": "stream",
     "text": [
      "826300.0\n",
      "996700.0\n",
      "685000.0\n"
     ]
    }
   ],
   "source": [
    "# convert to today's dollar\n",
    "dollar_est = np.e**log_est * 1000 * scale_factor\n",
    "print(round(dollar_est,-2))\n",
    "\n",
    "upper_price = np.e**upper*1000*scale_factor\n",
    "print(round(upper_price,-2))\n",
    "\n",
    "lower_price = np.e**lower*1000*scale_factor\n",
    "print(round(lower_price,-2))"
   ]
  },
  {
   "cell_type": "markdown",
   "id": "0823b35d",
   "metadata": {},
   "source": [
    "# Wrapping Them Up"
   ]
  },
  {
   "cell_type": "code",
   "execution_count": 147,
   "id": "8bfc128f",
   "metadata": {},
   "outputs": [],
   "source": [
    "def shock_maker_PRO_MAX_version(total_rooms,\n",
    "                                polution_index,\n",
    "                                students_per_classroom,\n",
    "                                weighted_distance_to_workplace,\n",
    "                                next_to_river=False,\n",
    "                                high_confidence=True) :\n",
    "    \n",
    "    log_estx, upper, lower, conf = x_log_estimate(total_rooms,\n",
    "                                                 polution_index,\n",
    "                                                 students_per_classroom,\n",
    "                                                 weighted_distance_to_workplace,\n",
    "                                                 next_to_river=False,\n",
    "                                                 high_confidence=True) \n",
    "    \n",
    "    dollar_est = np.e**log_estx * 1000 * scale_factor\n",
    "    upper_price = np.e**upper*1000*scale_factor\n",
    "    lower_price = np.e**lower*1000*scale_factor\n",
    "    \n",
    "    print('The estimated property value is $', round(dollar_est,-2))\n",
    "    print(f'At {conf}% confidence the valuation range is')\n",
    "    print(f'USD {round(lower_price,-2)} at the lower end to USD {round(upper_price,-2)} at the high end.')"
   ]
  },
  {
   "cell_type": "code",
   "execution_count": 148,
   "id": "49151ad4",
   "metadata": {},
   "outputs": [
    {
     "name": "stdout",
     "output_type": "stream",
     "text": [
      "The estimated property value is $ 206300.0\n",
      "At 95% confidence the valuation range is\n",
      "USD 140800.0 at the lower end to USD 302400.0 at the high end.\n"
     ]
    }
   ],
   "source": [
    "shock_maker_PRO_MAX_version(total_rooms = 4,\n",
    "               polution_index = 1,\n",
    "               students_per_classroom = 25,\n",
    "               weighted_distance_to_workplace = 8,\n",
    "               next_to_river = False,\n",
    "               high_confidence = True)"
   ]
  },
  {
   "cell_type": "code",
   "execution_count": 151,
   "id": "bfb1e959",
   "metadata": {},
   "outputs": [
    {
     "name": "stdout",
     "output_type": "stream",
     "text": [
      "The estimated property value is $ 445000.0\n",
      "At 95% confidence the valuation range is\n",
      "USD 303700.0 at the lower end to USD 652200.0 at the high end.\n"
     ]
    }
   ],
   "source": [
    "shock_maker_PRO_MAX_version(total_rooms = 4,\n",
    "               polution_index = 0.2,\n",
    "               students_per_classroom = 25,\n",
    "               weighted_distance_to_workplace = 5,\n",
    "               next_to_river = False,\n",
    "               high_confidence = True)"
   ]
  },
  {
   "cell_type": "code",
   "execution_count": null,
   "id": "a678cf6a",
   "metadata": {},
   "outputs": [],
   "source": []
  },
  {
   "cell_type": "code",
   "execution_count": null,
   "id": "2250372f",
   "metadata": {},
   "outputs": [],
   "source": []
  },
  {
   "cell_type": "code",
   "execution_count": null,
   "id": "af585f4c",
   "metadata": {},
   "outputs": [],
   "source": []
  },
  {
   "cell_type": "markdown",
   "id": "ab96b152",
   "metadata": {},
   "source": [
    "# Testing the boston valuation module"
   ]
  },
  {
   "cell_type": "code",
   "execution_count": 149,
   "id": "67463320",
   "metadata": {},
   "outputs": [],
   "source": [
    "import exe_module_boston_valuation as embv"
   ]
  },
  {
   "cell_type": "code",
   "execution_count": 150,
   "id": "96fb0801",
   "metadata": {},
   "outputs": [
    {
     "name": "stdout",
     "output_type": "stream",
     "text": [
      "The estimated property value is $ 206300.0\n",
      "At 95% confidence the valuation range is\n",
      "USD 140800.0 at the lower end to USD 302400.0 at the high end.\n"
     ]
    }
   ],
   "source": [
    "embv.shock_maker_PRO_MAX_version(total_rooms = 4,\n",
    "               polution_index = 1,\n",
    "               students_per_classroom = 25,\n",
    "               weighted_distance_to_workplace = 8,\n",
    "               next_to_river = False,\n",
    "               high_confidence = True)"
   ]
  },
  {
   "cell_type": "code",
   "execution_count": 77,
   "id": "14cd6884",
   "metadata": {},
   "outputs": [],
   "source": [
    "def prime_check(n) :\n",
    "    if n > 1 :\n",
    "        for i in range(2, n-1) :\n",
    "            if n % i == 0 :\n",
    "                print(f'{n} is not prime number')\n",
    "                break\n",
    "            else :\n",
    "                print(f'{n} is prime number')\n",
    "                break"
   ]
  },
  {
   "cell_type": "code",
   "execution_count": 80,
   "id": "e535c15d",
   "metadata": {},
   "outputs": [
    {
     "name": "stdout",
     "output_type": "stream",
     "text": [
      "31 is prime number\n"
     ]
    }
   ],
   "source": [
    "prime_check(31)"
   ]
  },
  {
   "cell_type": "code",
   "execution_count": null,
   "id": "b7551a1b",
   "metadata": {},
   "outputs": [],
   "source": []
  }
 ],
 "metadata": {
  "kernelspec": {
   "display_name": "Python 3",
   "language": "python",
   "name": "python3"
  },
  "language_info": {
   "codemirror_mode": {
    "name": "ipython",
    "version": 3
   },
   "file_extension": ".py",
   "mimetype": "text/x-python",
   "name": "python",
   "nbconvert_exporter": "python",
   "pygments_lexer": "ipython3",
   "version": "3.8.8"
  }
 },
 "nbformat": 4,
 "nbformat_minor": 5
}
